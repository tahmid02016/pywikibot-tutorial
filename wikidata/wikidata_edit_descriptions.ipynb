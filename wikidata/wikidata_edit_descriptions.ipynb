{
 "cells": [
  {
   "cell_type": "markdown",
   "id": "93dcede3",
   "metadata": {},
   "source": [
    "# পাইউইকিবট ব্যবহার করে উইকিউপাত্ত আইটেমে বিবরণ যোগ"
   ]
  },
  {
   "cell_type": "markdown",
   "id": "42efb29b",
   "metadata": {},
   "source": [
    "পাইউইকিবট হলো মিডিয়াউইকি সাইটে স্বয়ংক্রিয়ভাবে তথ্য সংগ্রহ বা পরিবর্তন করার জন্য তৈরি করা একটি পাইথন ফ্রেমওয়ার্ক। উইকিউপাত্তে এই ফ্রেমওয়ার্ক ব্যবহার করে সহজেই আইটেমের বিভিন্ন তথ্য এক্সট্র‍্যাক্ট করা বা এডিট করা যায়। এই টিউটোরিয়ালটিতে আমরা দেখবো কীভাবে বিবরণ যোগ করা যায়।"
   ]
  },
  {
   "cell_type": "markdown",
   "id": "a16145d3",
   "metadata": {},
   "source": [
    "কোন কোন আইটেমের বিবরণ যোগ করবো তা নির্ধারণ করবো আইটেমে থাকা বৈশিষ্ট্য (Property) এর উপরে ভিত্তি করে। শুরুতে আমরা স্পার্কল কুয়েরি করে আমাদের সম্পাদনা করার আইটেমগুলো বের করবো এবং তারপরে সেগুলো সম্পাদনা করবো।"
   ]
  },
  {
   "cell_type": "markdown",
   "id": "d5e578b3",
   "metadata": {},
   "source": [
    "এই টিউটোরিয়ালে আমরা আইটেমে একটিমাত্র বিবরণ যোগ করবো আর সেটি হলো “মালয়েশিয়ার মসজিদ”। বিবরণ দেখেই কিছুটা ধারণা করা যায় যে এই বিবরণ সেইসব আইটেমে হবে যেসব আইটেমে “নিদর্শন (P31)” দেওয়া আছে “মসজিদ (Q32815)” এবং “দেশ (P17)” হলো “মালয়েশিয়া (Q833)”।"
   ]
  },
  {
   "cell_type": "markdown",
   "id": "e64c3f18",
   "metadata": {},
   "source": [
    "আইটেমে বিবরণ যোগ করার জন্য আমাদের শুরুতে সেইসব আইটেম আলাদা করে নিতে হবে যেখানে “নিদর্শন” ও “দেশ” যথাক্রমে “মসজিদ” ও “মালয়েশিয়া”। আর এই কাজটিই আমরা করবো স্পার্কল কুয়েরি ব্যবহার করে।"
   ]
  },
  {
   "cell_type": "markdown",
   "id": "9da75bea",
   "metadata": {},
   "source": [
    "স্পার্কল কুয়েরি উইকিউপাত্ত থেকে আইটেম কুয়েরি করার জন্য তৈরি করা অসাধারণ একটি কুয়েরি ভাষা। আর পাইউইকিবট ফ্রেমওয়ার্কও এই কুয়েরি সমর্থন করে।"
   ]
  },
  {
   "cell_type": "markdown",
   "id": "60c4f4a9",
   "metadata": {},
   "source": [
    "**উইকিউপাত্ত থেকে মালয়েশিয়ার মসজিদ আইটেমগুলো বাছার জন্য স্পার্কল কুয়েরি হবে নিম্নরূপ:**"
   ]
  },
  {
   "cell_type": "markdown",
   "id": "967bd0ea",
   "metadata": {},
   "source": [
    "```\n",
    "select ?item where {\n",
    "    ?item wdt:P31 wd:Q32815;\n",
    "    ?item wdt:P17 wd:833.\n",
    "}\n",
    "```"
   ]
  },
  {
   "cell_type": "markdown",
   "id": "f20e9942",
   "metadata": {},
   "source": [
    "এই কুয়েরিটি আমরা `sparql.rq` নামে একটি ফাইলে সংরক্ষণ করি।"
   ]
  },
  {
   "cell_type": "markdown",
   "id": "542c014b",
   "metadata": {},
   "source": [
    "এরপরে আমাদের পাইথন প্রোগ্রাম লেখার পালা। শুরুতে যথাযথ মডিউল ইমপোর্ট করে নিয়ে প্রোগ্রামের কনফিগারেশন ঠিক করতে হবে।"
   ]
  },
  {
   "cell_type": "code",
   "execution_count": null,
   "id": "f867ec1f",
   "metadata": {},
   "outputs": [],
   "source": [
    "import pywikibot\n",
    "from pywikibot import pagegenerators as pg\n",
    "\n",
    "with open(\"sparql.rq\") as query_file:\n",
    "    QUERY = query_file.read()\n",
    "\n",
    "wikidata_site = pywikibot.Site(\"wikidata\", \"wikidata\")\n",
    "generator = pg.WikidataSPARQLPageGenerator(QUERY, site=wikidata_site)"
   ]
  },
  {
   "cell_type": "markdown",
   "id": "1cd0f338",
   "metadata": {},
   "source": [
    "এবার সম্পাদনা শুরু করার পালা। যেসব আইটেম আমরা সম্পাদনা করত চাই সেগুলো `generator`-এর মাঝে রয়েছে।"
   ]
  },
  {
   "cell_type": "markdown",
   "id": "59a35e72",
   "metadata": {},
   "source": [
    "**আইটেমে বিবরণ যোগ করার প্রোগ্রামটি নিম্নরূপ:**"
   ]
  },
  {
   "cell_type": "code",
   "execution_count": null,
   "id": "8baae93c",
   "metadata": {},
   "outputs": [],
   "source": [
    "new_description = {\"bn\": \"মালয়েশিয়ার মসজিদ\"}\n",
    "\n",
    "for item in generator:\n",
    "    item.item.editDescriptions(new_description, summary=\\\"Setting description in Bangla\")\n",
    "\n",
    "# প্রোগ্রাম রান হওয়া শেষ হওয়া বোঝার জন্য নিচের লাইনটি\n",
    "print(\\\"Program terminated successfully.\")"
   ]
  },
  {
   "cell_type": "markdown",
   "id": "9ac04645",
   "metadata": {},
   "source": [
    "পুরো প্রোগ্রামটি রান করলে উইকউপাত্তের আইটেমগুলোতে বিবরণ যোগ হয়ে যাবে।"
   ]
  }
 ],
 "metadata": {
  "kernelspec": {
   "display_name": "Python 3 (ipykernel)",
   "language": "python",
   "name": "python3"
  },
  "language_info": {
   "codemirror_mode": {
    "name": "ipython",
    "version": 3
   },
   "file_extension": ".py",
   "mimetype": "text/x-python",
   "name": "python",
   "nbconvert_exporter": "python",
   "pygments_lexer": "ipython3",
   "version": "3.9.7"
  }
 },
 "nbformat": 4,
 "nbformat_minor": 5
}
